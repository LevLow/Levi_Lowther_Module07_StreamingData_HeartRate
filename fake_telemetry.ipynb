{
 "cells": [
  {
   "cell_type": "markdown",
   "metadata": {},
   "source": []
  },
  {
   "cell_type": "code",
   "execution_count": 3,
   "metadata": {},
   "outputs": [],
   "source": [
    "#import the necessary libraries\n",
    "import pandas as pd\n",
    "from faker import Faker\n",
    "from datetime import datetime, timedelta\n",
    "import time\n",
    "\n",
    "#create instance of faker\n",
    "fake = Faker(locale='en_US')\n",
    "\n",
    "#set reference date for consistency\n",
    "\n",
    "\n",
    "#Create function that will generate heart rate telemetry data\n",
    "def create_telemetry(num_telemetry):\n",
    "    #create a list with telementry data\n",
    "    telemetry_list = []\n",
    "    # create telementry dict\n",
    "    for i in range(1, num_telemetry):\n",
    "        cardiac_telemetry = {}\n",
    "        cardiac_telemetry['Time_Stamp'] = datetime.now()\n",
    "        cardiac_telemetry['Patient_1'] = fake.random_int(min=10, max=200, step=1)\n",
    "        cardiac_telemetry['Patient_2'] = fake.random_int(min=5, max=215, step=1)\n",
    "        cardiac_telemetry['Patient_3'] = fake.random_int(min=10, max=180, step=1)\n",
    "        cardiac_telemetry['Patient_4'] = fake.random_int(min=15, max=250, step=1)\n",
    "        cardiac_telemetry['Patient_5'] = fake.random_int(min=20, max=200, step=1)\n",
    "        telemetry_list.append(cardiac_telemetry)\n",
    "        time.sleep(.5)\n",
    "    return pd.DataFrame(telemetry_list)\n"
   ]
  },
  {
   "cell_type": "code",
   "execution_count": 4,
   "metadata": {},
   "outputs": [],
   "source": [
    "data = create_telemetry(10)\n",
    "\n",
    "data.to_csv('telemetry.csv')"
   ]
  }
 ],
 "metadata": {
  "kernelspec": {
   "display_name": "base",
   "language": "python",
   "name": "python3"
  },
  "language_info": {
   "codemirror_mode": {
    "name": "ipython",
    "version": 3
   },
   "file_extension": ".py",
   "mimetype": "text/x-python",
   "name": "python",
   "nbconvert_exporter": "python",
   "pygments_lexer": "ipython3",
   "version": "3.12.3"
  }
 },
 "nbformat": 4,
 "nbformat_minor": 2
}
